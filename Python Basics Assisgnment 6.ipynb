{
 "cells": [
  {
   "cell_type": "raw",
   "id": "900ca00a",
   "metadata": {},
   "source": [
    "Escape characters are generally denoted by \"\\\""
   ]
  },
  {
   "cell_type": "raw",
   "id": "ad1f8af0",
   "metadata": {},
   "source": [
    "\"\\t\" denotes a tab, \"\\n\" denotes a newline"
   ]
  },
  {
   "cell_type": "raw",
   "id": "a70804b4",
   "metadata": {},
   "source": [
    "\"\\\\\" is the way to include backslash characters in a string"
   ]
  },
  {
   "cell_type": "code",
   "execution_count": 26,
   "id": "ef6dd917",
   "metadata": {},
   "outputs": [
    {
     "name": "stdout",
     "output_type": "stream",
     "text": [
      "Howl's Moving Castle\n"
     ]
    }
   ],
   "source": [
    "s=\"Howl's Moving Castle\"\n",
    "print(s)\n"
   ]
  },
  {
   "cell_type": "raw",
   "id": "80ed3ab1",
   "metadata": {},
   "source": [
    "The single quote in Howl's is fine because you've used double quotes to mark the beginning and end of the string."
   ]
  },
  {
   "cell_type": "code",
   "execution_count": 31,
   "id": "13b32a84",
   "metadata": {},
   "outputs": [
    {
     "name": "stdout",
     "output_type": "stream",
     "text": [
      "Hello\n",
      "world\n"
     ]
    }
   ],
   "source": [
    "print('Hello')\n",
    "print('world')"
   ]
  },
  {
   "cell_type": "raw",
   "id": "6bcc1bae",
   "metadata": {},
   "source": [
    "Multiline strings allow you to use newlines in strings without the \\n escape character."
   ]
  },
  {
   "cell_type": "code",
   "execution_count": 32,
   "id": "f783ebda",
   "metadata": {},
   "outputs": [
    {
     "data": {
      "text/plain": [
       "'e'"
      ]
     },
     "execution_count": 32,
     "metadata": {},
     "output_type": "execute_result"
    }
   ],
   "source": [
    "'Hello, World!'[1]"
   ]
  },
  {
   "cell_type": "code",
   "execution_count": 34,
   "id": "1f2a132c",
   "metadata": {},
   "outputs": [
    {
     "data": {
      "text/plain": [
       "'Hello'"
      ]
     },
     "execution_count": 34,
     "metadata": {},
     "output_type": "execute_result"
    }
   ],
   "source": [
    "'Hello, World!'[0:5]"
   ]
  },
  {
   "cell_type": "code",
   "execution_count": 35,
   "id": "1ae3c8f9",
   "metadata": {},
   "outputs": [
    {
     "data": {
      "text/plain": [
       "'Hello'"
      ]
     },
     "execution_count": 35,
     "metadata": {},
     "output_type": "execute_result"
    }
   ],
   "source": [
    "'Hello, World!'[:5]"
   ]
  },
  {
   "cell_type": "code",
   "execution_count": 36,
   "id": "4ce1e693",
   "metadata": {},
   "outputs": [
    {
     "data": {
      "text/plain": [
       "'lo, World!'"
      ]
     },
     "execution_count": 36,
     "metadata": {},
     "output_type": "execute_result"
    }
   ],
   "source": [
    "'Hello, World!'[3:]"
   ]
  },
  {
   "cell_type": "code",
   "execution_count": 37,
   "id": "34c79d7d",
   "metadata": {},
   "outputs": [
    {
     "data": {
      "text/plain": [
       "'HELLO'"
      ]
     },
     "execution_count": 37,
     "metadata": {},
     "output_type": "execute_result"
    }
   ],
   "source": [
    "'Hello'.upper()"
   ]
  },
  {
   "cell_type": "code",
   "execution_count": 38,
   "id": "1d2ca144",
   "metadata": {},
   "outputs": [
    {
     "data": {
      "text/plain": [
       "True"
      ]
     },
     "execution_count": 38,
     "metadata": {},
     "output_type": "execute_result"
    }
   ],
   "source": [
    "'Hello'.upper().isupper()"
   ]
  },
  {
   "cell_type": "code",
   "execution_count": 39,
   "id": "99aa3d1a",
   "metadata": {},
   "outputs": [
    {
     "data": {
      "text/plain": [
       "False"
      ]
     },
     "execution_count": 39,
     "metadata": {},
     "output_type": "execute_result"
    }
   ],
   "source": [
    "'Hello'.upper().islower()"
   ]
  },
  {
   "cell_type": "code",
   "execution_count": 40,
   "id": "9e3fa25d",
   "metadata": {},
   "outputs": [
    {
     "data": {
      "text/plain": [
       "'There-can-only-one.'"
      ]
     },
     "execution_count": 40,
     "metadata": {},
     "output_type": "execute_result"
    }
   ],
   "source": [
    "'Remember, remember, the fifth of July.'.split()\n",
    "'-'.join('There can only one.'.split())"
   ]
  },
  {
   "cell_type": "code",
   "execution_count": 53,
   "id": "13dad566",
   "metadata": {},
   "outputs": [],
   "source": [
    "s='Hello'"
   ]
  },
  {
   "cell_type": "code",
   "execution_count": 55,
   "id": "0fecf023",
   "metadata": {},
   "outputs": [
    {
     "data": {
      "text/plain": [
       "'###############Hello'"
      ]
     },
     "execution_count": 55,
     "metadata": {},
     "output_type": "execute_result"
    }
   ],
   "source": [
    "s.rjust(20,'#')"
   ]
  },
  {
   "cell_type": "code",
   "execution_count": 56,
   "id": "b67f28ab",
   "metadata": {},
   "outputs": [
    {
     "data": {
      "text/plain": [
       "'Hello###############'"
      ]
     },
     "execution_count": 56,
     "metadata": {},
     "output_type": "execute_result"
    }
   ],
   "source": [
    "s.ljust(20,'#')"
   ]
  },
  {
   "cell_type": "code",
   "execution_count": 57,
   "id": "aab7ba6a",
   "metadata": {},
   "outputs": [
    {
     "data": {
      "text/plain": [
       "'#######Hello########'"
      ]
     },
     "execution_count": 57,
     "metadata": {},
     "output_type": "execute_result"
    }
   ],
   "source": [
    "s.center(20,'#')"
   ]
  },
  {
   "cell_type": "raw",
   "id": "6a49c871",
   "metadata": {},
   "source": [
    "The lstrip() and rstrip() methods remove whitespace from the left and right ends of a string, respectively."
   ]
  },
  {
   "cell_type": "code",
   "execution_count": 58,
   "id": "57cd6b14",
   "metadata": {},
   "outputs": [],
   "source": [
    "s1='            the sentence have removed whitespace                  '"
   ]
  },
  {
   "cell_type": "code",
   "execution_count": 61,
   "id": "e9fbd73b",
   "metadata": {},
   "outputs": [
    {
     "data": {
      "text/plain": [
       "'the sentence have removed whitespace'"
      ]
     },
     "execution_count": 61,
     "metadata": {},
     "output_type": "execute_result"
    }
   ],
   "source": [
    "s1.lstrip().rstrip()"
   ]
  },
  {
   "cell_type": "code",
   "execution_count": null,
   "id": "890c2a94",
   "metadata": {},
   "outputs": [],
   "source": []
  }
 ],
 "metadata": {
  "kernelspec": {
   "display_name": "Python 3",
   "language": "python",
   "name": "python3"
  },
  "language_info": {
   "codemirror_mode": {
    "name": "ipython",
    "version": 3
   },
   "file_extension": ".py",
   "mimetype": "text/x-python",
   "name": "python",
   "nbconvert_exporter": "python",
   "pygments_lexer": "ipython3",
   "version": "3.8.8"
  }
 },
 "nbformat": 4,
 "nbformat_minor": 5
}
