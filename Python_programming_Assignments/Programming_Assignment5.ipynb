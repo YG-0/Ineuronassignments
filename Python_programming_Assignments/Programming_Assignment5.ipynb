{
 "cells": [
  {
   "cell_type": "code",
   "execution_count": 6,
   "id": "b4626849",
   "metadata": {},
   "outputs": [
    {
     "name": "stdout",
     "output_type": "stream",
     "text": [
      "The LCM of 3,6 is 6\n",
      "The LCM of 5,2 is 10\n",
      "The LCM of 5,100 is 100\n"
     ]
    }
   ],
   "source": [
    "1.\n",
    "def findTheLcm(x_term,y_term):\n",
    "    \n",
    "    ### find the LCM for two numbers\n",
    "    \n",
    "    if x_term > y_term:\n",
    "        greater = x_term\n",
    "    else:\n",
    "        greater = y_term\n",
    "    while True:\n",
    "        if((greater%x_term == 0) and (greater%y_term == 0)):\n",
    "            lcm = greater\n",
    "            break\n",
    "        else:\n",
    "            greater +=1\n",
    "    print(f'The LCM of {x_term},{y_term} is {lcm}')\n",
    "\n",
    "findTheLcm(3,6)\n",
    "findTheLcm(5,2)\n",
    "findTheLcm(5,100)"
   ]
  },
  {
   "cell_type": "code",
   "execution_count": 7,
   "id": "da2dde71",
   "metadata": {},
   "outputs": [
    {
     "name": "stdout",
     "output_type": "stream",
     "text": [
      "The HCF of 6,12 is 6\n",
      "The HCF of 2,3 is 1\n",
      "The HCF of 10,23 is 1\n"
     ]
    }
   ],
   "source": [
    "2.\n",
    "def findTheHcf(x_term,y_term):\n",
    "    \n",
    "    ### find the HCF for two numbers\n",
    "    \n",
    "    if x_term>y_term:\n",
    "        smaller = y_term\n",
    "    else:\n",
    "        smaller = x_term\n",
    "    for ele in range(1,smaller+1):\n",
    "        if((x_term%ele == 0) and (y_term%ele == 0)):\n",
    "            hcf = ele\n",
    "    print(f'The HCF of {x_term},{y_term} is {hcf}')\n",
    "\n",
    "findTheHcf(6,12)\n",
    "findTheHcf(2,3)\n",
    "findTheHcf(10,23)"
   ]
  },
  {
   "cell_type": "code",
   "execution_count": 1,
   "id": "caf1fda0",
   "metadata": {},
   "outputs": [
    {
     "name": "stdout",
     "output_type": "stream",
     "text": [
      "Enter a Number: 23\n",
      "Binary Number -> 0b10111\n",
      "Octal Number -> 0o27\n",
      "Hexadecimal Number -> 0x17\n"
     ]
    }
   ],
   "source": [
    "3.\n",
    "def DecimalToOther():\n",
    "    \n",
    "    ### conversion of decimal to other number\n",
    "    \n",
    "    num = int(input('Enter a Number: '))\n",
    "    print(f'Binary Number -> {bin(num)}')\n",
    "    print(f'Octal Number -> {oct(num)}')    \n",
    "    print(f'Hexadecimal Number -> {hex(num)}')    \n",
    "\n",
    "DecimalToOther()"
   ]
  },
  {
   "cell_type": "code",
   "execution_count": 2,
   "id": "99666cc2",
   "metadata": {},
   "outputs": [
    {
     "name": "stdout",
     "output_type": "stream",
     "text": [
      "Enter a Character: *\n",
      "Ascii Character of * is 42\n"
     ]
    }
   ],
   "source": [
    "4.\n",
    "def charToAscii():\n",
    "    \n",
    "    ###conversion of char to ASCII charater value\n",
    "    \n",
    "    char = input('Enter a Character: ')\n",
    "    if len(char) > 1:\n",
    "        print('Please Enter a Single Character')\n",
    "    else:\n",
    "        print(f'Ascii Character of {char} is {ord(char)}')\n",
    "\n",
    "charToAscii()"
   ]
  },
  {
   "cell_type": "code",
   "execution_count": 4,
   "id": "643c9981",
   "metadata": {},
   "outputs": [
    {
     "name": "stdout",
     "output_type": "stream",
     "text": [
      "Enter num1 :23\n",
      "Enter num2 :34\n",
      "Enter + for addition : \n",
      "Enter - for Subtraction :\n",
      "Enter * for multiplication :\n",
      "Enter / for division : /\n",
      "23.0 / 34.0 = 0.6764705882352942\n"
     ]
    }
   ],
   "source": [
    "5.\n",
    "def calculator():\n",
    "    \n",
    "    ### basic math operations in a calculator.\n",
    "    \n",
    "    num1 = float(input(\"Enter num1 :\"))\n",
    "    num2 = float(input(\"Enter num2 :\"))\n",
    "\n",
    "    operation = input(\"Enter + for addition : \\nEnter - for Subtraction :\\nEnter * for multiplication :\\nEnter / for division : \")\n",
    "\n",
    "    add = num1 + num2\n",
    "    sub = num1 - num2\n",
    "    mul = num1 * num2\n",
    "\n",
    "\n",
    "    if operation == \"+\":\n",
    "        print(\"{} + {} = {}\".format(num1,num2,add))\n",
    "    elif operation == \"-\":\n",
    "        print(\"{} - {} = {}\".format(num1,num2,sub))\n",
    "    elif operation == \"*\":\n",
    "        print(\"{} * {} = {}\".format(num1,num2,mul))\n",
    "    elif operation == \"/\":\n",
    "        if num1 == 0 or num2 == 0:\n",
    "            print(\"Division with zero is not possible\")\n",
    "        else:\n",
    "            div = num1 / num2\n",
    "            print(\"{} / {} = {}\".format(num1,num2,div))\n",
    "    else:\n",
    "        print(\"Invalid input\")\n",
    "calculator()"
   ]
  },
  {
   "cell_type": "code",
   "execution_count": null,
   "id": "b8fb87a1",
   "metadata": {},
   "outputs": [],
   "source": []
  }
 ],
 "metadata": {
  "kernelspec": {
   "display_name": "Python 3",
   "language": "python",
   "name": "python3"
  },
  "language_info": {
   "codemirror_mode": {
    "name": "ipython",
    "version": 3
   },
   "file_extension": ".py",
   "mimetype": "text/x-python",
   "name": "python",
   "nbconvert_exporter": "python",
   "pygments_lexer": "ipython3",
   "version": "3.8.8"
  }
 },
 "nbformat": 4,
 "nbformat_minor": 5
}
