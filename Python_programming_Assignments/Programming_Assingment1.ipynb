{
 "cells": [
  {
   "cell_type": "code",
   "execution_count": 62,
   "id": "b3519966",
   "metadata": {},
   "outputs": [
    {
     "name": "stdout",
     "output_type": "stream",
     "text": [
      "Hello World!\n"
     ]
    }
   ],
   "source": [
    "print(\"Hello World!\")"
   ]
  },
  {
   "cell_type": "code",
   "execution_count": 69,
   "id": "bd85e961",
   "metadata": {},
   "outputs": [
    {
     "name": "stdout",
     "output_type": "stream",
     "text": [
      "Enter First number: 3\n",
      "Enter Second number 5\n",
      "Sum of  3 and 5 is : 8\n",
      "Difference of  3 and 5 is : -2\n",
      "Product of 3 and 5 is : 15\n",
      "Division of  3 and 5 is : 0.6\n"
     ]
    }
   ],
   "source": [
    "###Python program to do arithmetical operations \n",
    "num1 = int(input('Enter First number: '))\n",
    "num2 = int(input('Enter Second number '))\n",
    "add = num1 + num2\n",
    "dif = num1 - num2\n",
    "mul = num1 * num2\n",
    "div = num1 / num2\n",
    "print('Sum of ',num1 ,'and' ,num2 ,'is :',add)\n",
    "print('Difference of ',num1 ,'and' ,num2 ,'is :',dif)\n",
    "print('Product of' ,num1 ,'and' ,num2 ,'is :',mul)\n",
    "print('Division of ',num1 ,'and' ,num2 ,'is :',div)"
   ]
  },
  {
   "cell_type": "code",
   "execution_count": 65,
   "id": "36be96da",
   "metadata": {},
   "outputs": [
    {
     "name": "stdout",
     "output_type": "stream",
     "text": [
      "Enter Base of triangle 2.9\n",
      "Enter the height of a triangle3.7\n",
      "area of triangle for b  2.9 and h  3.7 is =  5.365\n"
     ]
    }
   ],
   "source": [
    "### area of triangle\n",
    "b=float(input('Enter Base of triangle '))\n",
    "h=float(input('Enter the height of a triangle'))\n",
    "area=((b*h)/2)\n",
    "print('area of triangle for b ',b ,'and h ',h ,'is = ', area)"
   ]
  },
  {
   "cell_type": "code",
   "execution_count": 68,
   "id": "ef0e4131",
   "metadata": {},
   "outputs": [
    {
     "name": "stdout",
     "output_type": "stream",
     "text": [
      "enter the value 10\n",
      "enter the value 20\n",
      "Values before swap for a is  10 and b is  20\n",
      "Values after swap for a is  20 and b is  10\n"
     ]
    }
   ],
   "source": [
    "###program to swap 2 variables\n",
    "\n",
    "a=int(input('enter the value '))\n",
    "b=int(input('enter the value '))\n",
    "print('Values before swap for a is ',a,'and b is ',b)\n",
    "temp=a\n",
    "a=b\n",
    "b=temp\n",
    "print('Values after swap for a is ',a,'and b is ',b)"
   ]
  },
  {
   "cell_type": "code",
   "execution_count": 71,
   "id": "296a7333",
   "metadata": {},
   "outputs": [],
   "source": [
    "### program to generate random numbers\n",
    "import random"
   ]
  },
  {
   "cell_type": "code",
   "execution_count": 80,
   "id": "f6cc8bb8",
   "metadata": {},
   "outputs": [
    {
     "name": "stdout",
     "output_type": "stream",
     "text": [
      "[17, 2, 15, 14]\n"
     ]
    }
   ],
   "source": [
    "a=random.sample(range(1,20),4)\n",
    "print(a)"
   ]
  },
  {
   "cell_type": "code",
   "execution_count": null,
   "id": "a6155b3b",
   "metadata": {},
   "outputs": [],
   "source": []
  }
 ],
 "metadata": {
  "kernelspec": {
   "display_name": "Python 3",
   "language": "python",
   "name": "python3"
  },
  "language_info": {
   "codemirror_mode": {
    "name": "ipython",
    "version": 3
   },
   "file_extension": ".py",
   "mimetype": "text/x-python",
   "name": "python",
   "nbconvert_exporter": "python",
   "pygments_lexer": "ipython3",
   "version": "3.8.8"
  }
 },
 "nbformat": 4,
 "nbformat_minor": 5
}
