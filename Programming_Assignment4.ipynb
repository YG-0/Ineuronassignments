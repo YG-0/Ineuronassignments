{
 "cells": [
  {
   "cell_type": "code",
   "execution_count": 61,
   "id": "b401f2f1",
   "metadata": {},
   "outputs": [
    {
     "name": "stdout",
     "output_type": "stream",
     "text": [
      "enter the number: 5\n",
      "the factorial for number is:  120\n"
     ]
    }
   ],
   "source": [
    "###program to find the factorial of\n",
    "a=int(input(\"enter the number: \"))\n",
    "if a<0:\n",
    "    print(\"There is no factorial for a negative number\")\n",
    "elif a==0 or a==1:\n",
    "    print(\"The factorial for 0,1 = 1\")\n",
    "else: \n",
    "    fact=1\n",
    "    while(a>1):\n",
    "        fact=fact*a\n",
    "        a=a-1\n",
    "        \n",
    "print(\"the factorial for number is: \",fact)\n",
    "        "
   ]
  },
  {
   "cell_type": "code",
   "execution_count": 66,
   "id": "7fe58406",
   "metadata": {},
   "outputs": [
    {
     "name": "stdout",
     "output_type": "stream",
     "text": [
      "enter the number: 12\n",
      "12  *  1  =  12\n",
      "12  *  2  =  24\n",
      "12  *  3  =  36\n",
      "12  *  4  =  48\n",
      "12  *  5  =  60\n",
      "12  *  6  =  72\n",
      "12  *  7  =  84\n",
      "12  *  8  =  96\n",
      "12  *  9  =  108\n",
      "12  *  10  =  120\n",
      "12  *  11  =  132\n",
      "12  *  12  =  144\n"
     ]
    }
   ],
   "source": [
    "###python program to display multiplication table\n",
    "a=int(input(\"enter the number: \"))\n",
    "j=1\n",
    "i=1\n",
    "while (i<13):\n",
    "    j=i*a\n",
    "    print(a,\" * \",i ,\" = \",j)\n",
    "    i=i+1"
   ]
  },
  {
   "cell_type": "code",
   "execution_count": 2,
   "id": "45c1e17f",
   "metadata": {},
   "outputs": [
    {
     "name": "stdout",
     "output_type": "stream",
     "text": [
      "enter the number: 5\n",
      "0 1 1 2 3 5 "
     ]
    }
   ],
   "source": [
    "###create a fibonacci series.\n",
    "a=int(input(\"enter the number: \"))\n",
    "i=0\n",
    "j=1\n",
    "count=0\n",
    "sum=0\n",
    "while(count <= a):\n",
    "    print(sum, end = \" \")\n",
    "    count =count+ 1\n",
    "    i = j\n",
    "    j = sum\n",
    "    sum = i + j\n",
    "   \n",
    "   "
   ]
  },
  {
   "cell_type": "code",
   "execution_count": 24,
   "id": "f2d24c1d",
   "metadata": {},
   "outputs": [
    {
     "name": "stdout",
     "output_type": "stream",
     "text": [
      "Enter a Number:371\n",
      " 371 is an Armstrong number\n"
     ]
    }
   ],
   "source": [
    "### program to check armstrong number\n",
    "num = int(input(\"Enter a Number:\"))\n",
    "order = len(str(num))\n",
    "temp = num\n",
    "sum = 0\n",
    "while(temp>0):\n",
    "    digit =temp%10\n",
    "    sum += digit **order\n",
    "    temp = temp//10\n",
    "if(sum==num):\n",
    "    print(\"\",num,\"is an Armstrong number\")\n",
    "else:\n",
    "    print(\"\",num,\"is not an Armstrong number\")"
   ]
  },
  {
   "cell_type": "code",
   "execution_count": 29,
   "id": "c5768f44",
   "metadata": {},
   "outputs": [
    {
     "name": "stdout",
     "output_type": "stream",
     "text": [
      "153\n",
      "370\n",
      "371\n",
      "407\n",
      "1634\n"
     ]
    }
   ],
   "source": [
    "###Python Program to Find Armstrong Number in an Interval\n",
    "lower = 100\n",
    "upper = 2000\n",
    "\n",
    "for num in range(lower, upper + 1):\n",
    "\n",
    "    order = len(str(num))\n",
    "    sum = 0\n",
    "    temp = num\n",
    "    while temp > 0:\n",
    "        digit = temp % 10\n",
    "        sum += digit ** order\n",
    "        temp //= 10\n",
    "\n",
    "    if num == sum:\n",
    "        print(num)"
   ]
  },
  {
   "cell_type": "code",
   "execution_count": 33,
   "id": "bbac1ac9",
   "metadata": {},
   "outputs": [
    {
     "name": "stdout",
     "output_type": "stream",
     "text": [
      "Enter a Number:23\n",
      "Enter a Number:45\n",
      "Sum of 2 natural numbers are:  68\n"
     ]
    }
   ],
   "source": [
    "num1 = int(input(\"Enter a Number:\"))\n",
    "num2 = int(input(\"Enter a Number:\"))\n",
    "sum=0\n",
    "if num1>0 and num2>0 :\n",
    "    sum=num1+num2\n",
    "    print(\"Sum of 2 natural numbers are: \",sum)\n",
    "else:\n",
    "    print(\"the given numbers are not natural numbers.\")"
   ]
  },
  {
   "cell_type": "code",
   "execution_count": null,
   "id": "cd2aae27",
   "metadata": {},
   "outputs": [],
   "source": []
  }
 ],
 "metadata": {
  "kernelspec": {
   "display_name": "Python 3",
   "language": "python",
   "name": "python3"
  },
  "language_info": {
   "codemirror_mode": {
    "name": "ipython",
    "version": 3
   },
   "file_extension": ".py",
   "mimetype": "text/x-python",
   "name": "python",
   "nbconvert_exporter": "python",
   "pygments_lexer": "ipython3",
   "version": "3.8.8"
  }
 },
 "nbformat": 4,
 "nbformat_minor": 5
}
