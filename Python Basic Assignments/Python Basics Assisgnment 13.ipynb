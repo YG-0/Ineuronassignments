{
 "cells": [
  {
   "cell_type": "raw",
   "id": "57fbf080",
   "metadata": {},
   "source": [
    "1.\n",
    "The Advantages of Excel over CSV are:\n",
    "\n",
    "Excel (XLS and XLSX) file formats are better for storing and analysing complex data.\n",
    "An Excel not only stores data but can also do operations on the data using macros, formulas etc\n",
    "CSV files are plain-text files, Does not contain formatting, formulas, macros, etc. It is also known as flat files"
   ]
  },
  {
   "cell_type": "code",
   "execution_count": null,
   "id": "1d055a79",
   "metadata": {},
   "outputs": [],
   "source": [
    "2.\n",
    "import csv\n",
    "with open('text.csv','r') as file:\n",
    "    csv_file = csv.reader(file,delimiter=',')\n",
    "    for ele in csv_file:\n",
    "        print(ele)"
   ]
  },
  {
   "cell_type": "raw",
   "id": "97e7b438",
   "metadata": {},
   "source": [
    "3.\n",
    "For csv.reader(iterable_file_object), the file objects needed to be opened in read mode mode='r' Whereas for csv.writer(iterable_file_object) the file objects needed to be opened in write mode mode='w'"
   ]
  },
  {
   "cell_type": "raw",
   "id": "05503364",
   "metadata": {},
   "source": [
    "4.\n",
    " csv.writer class provides two methods for writing to CSV. They are writerow() and writerows(). writerow() method writes a single row at a time. Whereas writerows() method is used to write multiple rows at a time."
   ]
  },
  {
   "cell_type": "code",
   "execution_count": 2,
   "id": "ed0b1bef",
   "metadata": {},
   "outputs": [],
   "source": [
    "# Example Program\n",
    "import csv      \n",
    "fields = ['Name', 'Branch', 'Year', 'CGPA'] #column names \n",
    "rows = [ \n",
    "            ['Gaurav', 'COE', '2', '9.0'],  # data rows of csv file \n",
    "            ['Vivek', 'COE', '2', '9.1'], \n",
    "            ['Ram', 'IT', '2', '9.3']\n",
    "       ] \n",
    "with open(\"university_records.csv\", 'w') as csvfile: \n",
    "    csvwriter = csv.writer(csvfile) # creating a csv writer object \n",
    "    csvwriter.writerow(fields) # writing the fields \n",
    "    csvwriter.writerows(rows) # writing the data rows "
   ]
  },
  {
   "cell_type": "raw",
   "id": "aa1852d2",
   "metadata": {},
   "source": [
    "5.\n",
    "Lets take the example of a csv file:\n",
    "First Name, Last Name, Age\n",
    "Yash, Gour, 24\n",
    "Krish, Naik, 30\n",
    "Here ',' is Delimiter. We can use any Character as per our needs if required. Similarly Line Terminator comes at end of line by default it is newline and can be changed accourding to Requirement."
   ]
  },
  {
   "cell_type": "code",
   "execution_count": 3,
   "id": "22ea3fa4",
   "metadata": {},
   "outputs": [
    {
     "name": "stdout",
     "output_type": "stream",
     "text": [
      "{\n",
      "    \"Name\": \"Yash gour\",\n",
      "    \"Qualification\": \"Master in Business Administration\",\n",
      "    \"Stream\": \"Marketing and Analytics\"\n",
      "}\n",
      "Type of my_details_json is <class 'str'>\n",
      "{'Name': 'Yash gour', 'Qualification': 'Master in Business Administration', 'Stream': 'Marketing and Analytics'}\n",
      "Type of my_details is <class 'dict'>\n"
     ]
    }
   ],
   "source": [
    "6.\n",
    "# Example of json.loads() method\n",
    "import json\n",
    "my_details_json ='''{\n",
    "    \"Name\": \"Yash gour\",\n",
    "    \"Qualification\": \"Master in Business Administration\",\n",
    "    \"Stream\": \"Marketing and Analytics\"\n",
    "}'''\n",
    "print(my_details_json)\n",
    "print(f'Type of my_details_json is {type(my_details_json)}')\n",
    "my_details = json.loads(my_details_json)\n",
    "print(my_details)\n",
    "print(f'Type of my_details is {type(my_details)}')"
   ]
  },
  {
   "cell_type": "code",
   "execution_count": 4,
   "id": "3f430922",
   "metadata": {},
   "outputs": [
    {
     "name": "stdout",
     "output_type": "stream",
     "text": [
      "{'Name': 'Yash gour', 'Qualification': 'Master in Business Administration', 'Stream': 'Marketing and Analytics'}\n",
      "Type of my_details is <class 'dict'>\n",
      "{\n",
      "    \"Name\": \"Yash gour\",\n",
      "    \"Qualification\": \"Master in Business Administration\",\n",
      "    \"Stream\": \"Marketing and Analytics\"\n",
      "}\n",
      "Type of my_details_json is <class 'str'>\n"
     ]
    }
   ],
   "source": [
    "7.\n",
    "# Example of json.dumps() method\n",
    "import json\n",
    "my_details = {\n",
    "    \"Name\": \"Yash gour\",\n",
    "    \"Qualification\": \"Master in Business Administration\",\n",
    "    \"Stream\": \"Marketing and Analytics\"\n",
    "}\n",
    "print(my_details)\n",
    "print(f'Type of my_details is {type(my_details)}')\n",
    "my_details_json = json.dumps(my_details, indent=4, sort_keys=True)\n",
    "print(my_details_json)\n",
    "print(f'Type of my_details_json is {type(my_details_json)}')"
   ]
  },
  {
   "cell_type": "code",
   "execution_count": null,
   "id": "bf2e16ba",
   "metadata": {},
   "outputs": [],
   "source": []
  }
 ],
 "metadata": {
  "kernelspec": {
   "display_name": "Python 3",
   "language": "python",
   "name": "python3"
  },
  "language_info": {
   "codemirror_mode": {
    "name": "ipython",
    "version": 3
   },
   "file_extension": ".py",
   "mimetype": "text/x-python",
   "name": "python",
   "nbconvert_exporter": "python",
   "pygments_lexer": "ipython3",
   "version": "3.8.8"
  }
 },
 "nbformat": 4,
 "nbformat_minor": 5
}
