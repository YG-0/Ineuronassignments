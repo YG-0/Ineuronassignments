{
 "cells": [
  {
   "cell_type": "raw",
   "id": "8cedecd3",
   "metadata": {},
   "source": [
    "1.\n",
    "RGBA is a four-channel format containing data for Red, Green, Blue, and an Alpha value. Where Alpha Represents the Opacity. Each value is a floating point number between 0.0 and 1.0. For example, the tuple (1, 0, 0, 1) represents an opaque red, while (0, 1, 0, 0.5) represents a half transparent green."
   ]
  },
  {
   "cell_type": "raw",
   "id": "c0d031e2",
   "metadata": {},
   "source": [
    "2.\n",
    "ImageColor.getcolor() gives rgba value of any image"
   ]
  },
  {
   "cell_type": "raw",
   "id": "0a616251",
   "metadata": {},
   "source": [
    "3.\n",
    "A box tuple is a tuple value of four integers: the left-edge x-coordinate, the top-edge y-coordinate,the width, and the height, respectively."
   ]
  },
  {
   "cell_type": "code",
   "execution_count": 9,
   "id": "cb6922c4",
   "metadata": {},
   "outputs": [
    {
     "name": "stdout",
     "output_type": "stream",
     "text": [
      "Width, Height -> (427, 270)\n",
      "Width, Height -> 427,270\n",
      "Width, Height -> 427,270\n"
     ]
    }
   ],
   "source": [
    "4.\n",
    "from PIL import Image\n",
    "pic = Image.open(r\"C:\\Users\\yashg\\Downloads\\openimage.jpg\")\n",
    "print(f'Width, Height -> {pic.size}') # Approach 1\n",
    "print(f'Width, Height -> {pic.width},{pic.height}') # Approach 2\n",
    "width,height = pic.size\n",
    "print(f'Width, Height -> {width},{height}') # Approach 3"
   ]
  },
  {
   "cell_type": "code",
   "execution_count": 10,
   "id": "fe279af0",
   "metadata": {},
   "outputs": [],
   "source": [
    "5.\n",
    "from PIL import Image\n",
    "img = Image.open(r\"C:\\Users\\yashg\\Downloads\\openimage.jpg\")\n",
    "new_img = img.crop((0,50,50,50))"
   ]
  },
  {
   "cell_type": "code",
   "execution_count": 11,
   "id": "ecde3f11",
   "metadata": {},
   "outputs": [],
   "source": [
    "6.\n",
    "#Example Program\n",
    "from PIL import Image\n",
    "pic = Image.open(r\"C:\\Users\\yashg\\Downloads\\openimage.jpg\")\n",
    "pic.save('openimage2.jpg')"
   ]
  },
  {
   "cell_type": "raw",
   "id": "d151f58d",
   "metadata": {},
   "source": [
    "7.\n",
    "Pillows ImageDraw module contains Shape drawing methods. The 'ImageDraw' module provides simple 2D graphics support for Image Object. Generally, we use this module to create new images, annotate or retouch existing images and to generate graphics on the fly for web use. The graphics commands support the drawing of shapes and annotation of text."
   ]
  },
  {
   "cell_type": "raw",
   "id": "42cd9d6f",
   "metadata": {},
   "source": [
    "8.\n",
    "ImageDraw objects have shape-drawing methods such as point(), line(), or rectangle().They are returned by passing the Image object to the ImageDraw.Draw() function."
   ]
  },
  {
   "cell_type": "code",
   "execution_count": null,
   "id": "d1b8cedb",
   "metadata": {},
   "outputs": [],
   "source": []
  }
 ],
 "metadata": {
  "kernelspec": {
   "display_name": "Python 3",
   "language": "python",
   "name": "python3"
  },
  "language_info": {
   "codemirror_mode": {
    "name": "ipython",
    "version": 3
   },
   "file_extension": ".py",
   "mimetype": "text/x-python",
   "name": "python",
   "nbconvert_exporter": "python",
   "pygments_lexer": "ipython3",
   "version": "3.8.8"
  }
 },
 "nbformat": 4,
 "nbformat_minor": 5
}
