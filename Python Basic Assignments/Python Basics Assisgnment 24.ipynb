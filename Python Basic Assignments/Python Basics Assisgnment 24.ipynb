{
 "cells": [
  {
   "cell_type": "raw",
   "id": "f3ad0a1d",
   "metadata": {},
   "source": [
    "1.\n",
    "def statement is used to create a normal function whereas lambda expressions are used to create Anonymous functionswhich can be assigned to a variable and can be called using the variable later in function.\n",
    "\n",
    "Lambda's body is a single expression and not a block of statements like def statement. The lambda expression's body is similar to what we wouldd put in a def body's return statement. We simply type the result as an expression instead of explicitly returning it. Because it is limited to an expression, a lambda is less general than a def statement.\n",
    "\n",
    "Example of Lambda Function is shown below:"
   ]
  },
  {
   "cell_type": "code",
   "execution_count": 47,
   "id": "780f7c96",
   "metadata": {},
   "outputs": [
    {
     "name": "stdout",
     "output_type": "stream",
     "text": [
      "13\n"
     ]
    }
   ],
   "source": [
    "x = lambda a, b, c : a + b + c\n",
    "print(x(5, 6, 2)) "
   ]
  },
  {
   "cell_type": "raw",
   "id": "dd81fbd9",
   "metadata": {},
   "source": [
    "2.\n",
    "The following are some of the benefits of lambda expressions:\n",
    "\n",
    "It can be used to create Nameless/Anonymous functions inside some complex functions if we are planning to use it only once.\n",
    "Moderate to small functions can be created in a single line\n",
    "Fuctions created using lambda expressions can be assigned to a variable and can be used by simply calling the variable"
   ]
  },
  {
   "cell_type": "raw",
   "id": "fc09f22a",
   "metadata": {},
   "source": [
    "3.\n",
    "The differences between map, filter and reduce are:\n",
    "\n",
    "map(): The map() function is a type of higher-order. This function takes another function as a parameter along with a sequence of iterables and returns an output after applying the function to each iterable present in the sequence.\n",
    "filter(): The filter() function is used to create an output list consisting of values for which the function returns true.\n",
    "reduce(): The reduce() function, as the name describes, applies a given function to the iterables and returns a single value"
   ]
  },
  {
   "cell_type": "code",
   "execution_count": 50,
   "id": "4cd78a88",
   "metadata": {},
   "outputs": [
    {
     "name": "stdout",
     "output_type": "stream",
     "text": [
      "Map -> [2, 4, 6, 16]\n",
      "Filter -> [1, 3, 9]\n",
      "Reduce -> 22\n"
     ]
    }
   ],
   "source": [
    "from functools import reduce\n",
    "# map function\n",
    "print('Map ->',list(map(lambda x:x+x, [1,2,3,8])))\n",
    "# fitler function\n",
    "print('Filter ->',list(filter(lambda x:x%2 !=0, [1,2,3,9])))\n",
    "# reduce function\n",
    "print('Reduce ->',reduce(lambda x,y:x+y, [1,2,3,4,5,7]))"
   ]
  },
  {
   "cell_type": "raw",
   "id": "dec3521b",
   "metadata": {},
   "source": [
    "4.\n",
    " Function annotations provide a way of associating various parts of a function with arbitrary python expressions at compile time.\n",
    "Annotations of simple parameters def func(x: expression, y: expression = 20):\n",
    "Whereas the annotations for excess parameters are as − def func (**args: expression, **kwargs: expression):\n",
    "\n",
    "Purpose of Function Annotations:\n",
    "\n",
    "a.Python supports dynamic typing and hence no module is provided for type checking.\n",
    "b.String based annotations can be used by the libraries to provide better help messages at compile time regarding the functionalities of various methods, classes and modules.\n",
    "Example of Annotations:\n",
    "\n",
    "a.Annotations for simple parameters : def foo(a: expression, b: expression = 5):\n",
    "b.Annotations for excess parameters : def foo(args: expression, kwargs: expression):\n",
    "c.Annotations for nested parameters : def foo((a: expression, b: expression), (c: expression, d: expression)):"
   ]
  },
  {
   "cell_type": "raw",
   "id": "33cc839c",
   "metadata": {},
   "source": [
    "5.\n",
    "A recursive function is a function that calls itself during its execution. The process may repeat several times, outputting the result and the end of each iteration. An example is mentioned below:"
   ]
  },
  {
   "cell_type": "code",
   "execution_count": 55,
   "id": "460da809",
   "metadata": {},
   "outputs": [
    {
     "name": "stdout",
     "output_type": "stream",
     "text": [
      "\n",
      "\n",
      "Recursion Example Results\n",
      "1\n",
      "3\n",
      "6\n",
      "10\n",
      "15\n",
      "21\n",
      "28\n",
      "36\n",
      "45\n"
     ]
    },
    {
     "data": {
      "text/plain": [
       "45"
      ]
     },
     "execution_count": 55,
     "metadata": {},
     "output_type": "execute_result"
    }
   ],
   "source": [
    "def tri_recursion(k):\n",
    "  if(k>0):\n",
    "    result = k+tri_recursion(k-1)\n",
    "    print(result)\n",
    "  else:\n",
    "    result = 0\n",
    "  return result\n",
    "\n",
    "print(\"\\n\\nRecursion Example Results\")\n",
    "tri_recursion(9)"
   ]
  },
  {
   "cell_type": "raw",
   "id": "e57282ee",
   "metadata": {},
   "source": [
    "6.\n",
    "Some of the general design guidelines for coding functions are:\n",
    "\n",
    "Always use a docstring to explain the functionality of the function\n",
    "\n",
    "Avoid using or limit use of global variables\n",
    "\n",
    "Proper Indentation to increase the code readability\n",
    "\n",
    "Try to follow a proper naming convention for function names (pascalCase or camelCase) and stick with the same convention throughout the application.\n",
    "\n",
    "Avoid using digits while choosing a variable name\n",
    "\n",
    "Try to use a name for the function which conveys the purpose of the function\n",
    "\n",
    "Local variables should be named using camelCase format (ex: localVariable) whereas Global variables names should be using PascalCase (ex:GlobalVariable).\n",
    "\n",
    "Constant should be represented in allcaps (ex:CONSTANT)."
   ]
  },
  {
   "cell_type": "raw",
   "id": "3226987d",
   "metadata": {},
   "source": [
    "7.\n",
    "Some of the ways in which a function can communicate with the calling function is:\n",
    "\n",
    "print\n",
    "return\n",
    "yield"
   ]
  },
  {
   "cell_type": "code",
   "execution_count": null,
   "id": "ce3bd188",
   "metadata": {},
   "outputs": [],
   "source": []
  }
 ],
 "metadata": {
  "kernelspec": {
   "display_name": "Python 3",
   "language": "python",
   "name": "python3"
  },
  "language_info": {
   "codemirror_mode": {
    "name": "ipython",
    "version": 3
   },
   "file_extension": ".py",
   "mimetype": "text/x-python",
   "name": "python",
   "nbconvert_exporter": "python",
   "pygments_lexer": "ipython3",
   "version": "3.8.8"
  }
 },
 "nbformat": 4,
 "nbformat_minor": 5
}
