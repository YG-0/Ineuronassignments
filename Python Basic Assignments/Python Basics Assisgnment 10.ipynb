{
 "cells": [
  {
   "cell_type": "raw",
   "id": "f55320df",
   "metadata": {},
   "source": [
    "1. shutil.copy() method is used to copy the contents of a file from one file to another file/folder. It primarily takes two arguments src and dest. src represents the file to be copied where as destination refers to the file/folder to where the src data should be copied. If dest is a folder name the src with exact name will be copied to the dest folder whereas if its a file then the contents of src will be copied to dest where dest retains it name.\n",
    "\n",
    "shutil.copytree() function is used to copy the entire contents of a folder to other folder. It also takes two arguments src & dest. It copies all the content recursively and stores it in dest. The important point to note here is that dest must not exist prior to this and it will be created during the copy operation. Permissions and times of directories are copied with shutil.copystat() and individual files are copied using shutil.copy2() by default which can be modified using copy_function attribute."
   ]
  },
  {
   "cell_type": "raw",
   "id": "d58fe1ee",
   "metadata": {},
   "source": [
    "2. os.rename() function is used to rename files or directories using a python program. this function takes two arguments src and dest. src represents the name file/directory which we want to rename, whereas dest represents the new name of the file/directory."
   ]
  },
  {
   "cell_type": "raw",
   "id": "77ca326d",
   "metadata": {},
   "source": [
    "3. Shutil module provides a funciton called as shutil.rmtree() which deletes a directory and all of its contents. The other functions with similar functionality are os.remove() which removes a file. os.rmdir() removes a empty directory. The problem with these functions is once a file is deleted. it will be lost permanently and if a file is deleted accidentally using these methods there is no way we can recover the deleted file\n",
    "\n",
    "Where as send2trash module provides a function called send2trash.send2trash() to delete a file/directory. These methods moves the files/directories to trash folder instead of permanently deleting them. Hence if a file/folder is deleted accidentally using the send2trash.send2trash() it can be still recovered from trash folder. send2trash is not included with python standard libary like os & shutil modules. So, it needs to be installed explicitly using the command !pip install send2trash"
   ]
  },
  {
   "cell_type": "raw",
   "id": "ffa123c5",
   "metadata": {},
   "source": [
    "4. ZipFile Module provides a method called as zipfile.ZipFile() to read and write to zipFiles. it takes arugments such as filename and mode etc zipfile.ZipFile('filename', mode = 'r')"
   ]
  },
  {
   "cell_type": "markdown",
   "id": "693b81bb",
   "metadata": {},
   "source": [
    "5.  "
   ]
  },
  {
   "cell_type": "code",
   "execution_count": 17,
   "id": "56d3059c",
   "metadata": {},
   "outputs": [],
   "source": [
    "import os\n",
    "import shutil\n",
    "\n",
    "def search_copy(source,destination,extensions):\n",
    "    source = os.path.abspath(source)\n",
    "    destination = os.path.abspath(destination)\n",
    "    for foldername, subfolder, filenames in os.walk(source):\n",
    "        print(f'Folder Name ➞ {foldername}',end='\\n\\n')\n",
    "        print(f'Sub Folders ➞ {subfolder}',end='\\n\\n')\n",
    "        print(f'Files ➞ {filenames}',end='\\n\\n')\n",
    "        for filename in filenames:\n",
    "            fileName,extension = os.path.splitext(filename)\n",
    "            if extension in extensions:\n",
    "                targetFile = foldername+os.path.sep+fileName+extension\n",
    "                shutil.copy(targetFile, destination)\n",
    "        print(f'Files copied successfully from {source} to {destination}')\n",
    "    \n",
    "extensions = ['.pdf','.jpg','.ipynb']\n",
    "source = 'Source Folder'\n",
    "destination = 'Destination Folder'\n",
    "search_copy(source, destination, extensions)"
   ]
  },
  {
   "cell_type": "code",
   "execution_count": null,
   "id": "e3b1d50c",
   "metadata": {},
   "outputs": [],
   "source": []
  }
 ],
 "metadata": {
  "kernelspec": {
   "display_name": "Python 3",
   "language": "python",
   "name": "python3"
  },
  "language_info": {
   "codemirror_mode": {
    "name": "ipython",
    "version": 3
   },
   "file_extension": ".py",
   "mimetype": "text/x-python",
   "name": "python",
   "nbconvert_exporter": "python",
   "pygments_lexer": "ipython3",
   "version": "3.8.8"
  }
 },
 "nbformat": 4,
 "nbformat_minor": 5
}
