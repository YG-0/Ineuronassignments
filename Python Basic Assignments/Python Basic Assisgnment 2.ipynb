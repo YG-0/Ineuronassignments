{
 "cells": [
  {
   "cell_type": "markdown",
   "id": "ba437d74",
   "metadata": {},
   "source": [
    "The boolean value can be of two types only i.e. either True or False."
   ]
  },
  {
   "cell_type": "code",
   "execution_count": null,
   "id": "eac16241",
   "metadata": {},
   "outputs": [],
   "source": [
    "a = True\n",
    "type(a)"
   ]
  },
  {
   "cell_type": "code",
   "execution_count": null,
   "id": "c1a6c9b6",
   "metadata": {},
   "outputs": [],
   "source": [
    "b = False\n",
    "type(b)"
   ]
  },
  {
   "cell_type": "code",
   "execution_count": null,
   "id": "01ef90fd",
   "metadata": {},
   "outputs": [],
   "source": []
  },
  {
   "cell_type": "markdown",
   "id": "25f37662",
   "metadata": {},
   "source": [
    "The three basic boolean operators are: AND, OR, and NOT"
   ]
  },
  {
   "cell_type": "code",
   "execution_count": null,
   "id": "218f3fae",
   "metadata": {},
   "outputs": [],
   "source": [
    "a = 0,1\n",
    "b = 0,1\n",
    "print('\"And\" operation truth table')\n",
    "print(('0 0 '), a[0] and b[0])\n",
    "print(('0 1 '), a[0] and b[1])\n",
    "print(('1 0 '), a[1] and b[0])\n",
    "print(('1 1 '), a[1] and b[1])\n",
    "print('\"Or\" operation truth table')\n",
    "print(('0 0 '), a[0] or b[0])\n",
    "print(('0 1 '), a[0] or b[1])\n",
    "print(('1 0 '), a[1] or b[0])\n",
    "print(('1 1 '), a[1] or b[1])"
   ]
  },
  {
   "cell_type": "code",
   "execution_count": null,
   "id": "b839f212",
   "metadata": {},
   "outputs": [],
   "source": [
    "(5 > 4) and (3 == 5)"
   ]
  },
  {
   "cell_type": "code",
   "execution_count": null,
   "id": "e7e3b3a2",
   "metadata": {},
   "outputs": [],
   "source": [
    "not(5>4)"
   ]
  },
  {
   "cell_type": "code",
   "execution_count": null,
   "id": "6afdc735",
   "metadata": {},
   "outputs": [],
   "source": [
    "(5 > 4) or (3 == 5)"
   ]
  },
  {
   "cell_type": "code",
   "execution_count": null,
   "id": "33c10a34",
   "metadata": {},
   "outputs": [],
   "source": [
    "not ((5 > 4) or (3 == 5))"
   ]
  },
  {
   "cell_type": "code",
   "execution_count": null,
   "id": "916586f3",
   "metadata": {},
   "outputs": [],
   "source": [
    "(True and True) and (True == False)"
   ]
  },
  {
   "cell_type": "code",
   "execution_count": null,
   "id": "28efdb11",
   "metadata": {},
   "outputs": [],
   "source": [
    "(not False) or (not True)"
   ]
  },
  {
   "cell_type": "raw",
   "id": "db3ec33e",
   "metadata": {},
   "source": [
    "# Name of the Operator\tOperator\tExample\n",
    "Equal to\t              = =\t     a= =b\n",
    "Not equal to\t          !=\t     a!=b\n",
    "Less than\t              <        \t a<b\n",
    "Greater than\t          >\t         a>b\n",
    "Less than or equal to\t  <=\t     a<=b\n",
    "Greater than or equal to  >=\t     a>=b"
   ]
  },
  {
   "cell_type": "code",
   "execution_count": null,
   "id": "483688c7",
   "metadata": {},
   "outputs": [],
   "source": [
    "spam = 0\n",
    "if spam == 10:\n",
    "    print('eggs')\n",
    "if spam > 5:\n",
    "    print('bacon')\n",
    "else:\n",
    "    print('ham')\n",
    "print('spam')\n",
    "print('spam')\n"
   ]
  },
  {
   "cell_type": "code",
   "execution_count": 8,
   "id": "72c6cbcc",
   "metadata": {},
   "outputs": [
    {
     "name": "stdout",
     "output_type": "stream",
     "text": [
      "enter the value: 2\n",
      "Howdy\n"
     ]
    }
   ],
   "source": [
    "spam = int(input(\"enter the value: \"))\n",
    "if spam == 10:\n",
    "    print(\"Hello\")\n",
    "elif spam == 2:\n",
    "    print(\"Howdy\")\n",
    "else:\n",
    "    print(\"Greeting!\")"
   ]
  },
  {
   "cell_type": "code",
   "execution_count": null,
   "id": "d28ea499",
   "metadata": {},
   "outputs": [],
   "source": []
  }
 ],
 "metadata": {
  "kernelspec": {
   "display_name": "Python 3",
   "language": "python",
   "name": "python3"
  },
  "language_info": {
   "codemirror_mode": {
    "name": "ipython",
    "version": 3
   },
   "file_extension": ".py",
   "mimetype": "text/x-python",
   "name": "python",
   "nbconvert_exporter": "python",
   "pygments_lexer": "ipython3",
   "version": "3.8.8"
  }
 },
 "nbformat": 4,
 "nbformat_minor": 5
}
