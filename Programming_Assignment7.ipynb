{
 "cells": [
  {
   "cell_type": "code",
   "execution_count": 6,
   "id": "8cb35921",
   "metadata": {},
   "outputs": [
    {
     "name": "stdout",
     "output_type": "stream",
     "text": [
      "Sum is 29\n"
     ]
    }
   ],
   "source": [
    "\n",
    "1.\n",
    "\n",
    "sum =0\n",
    "lst = [2,4,2,7,5,9]\n",
    "for i in range(0,len(lst)):\n",
    "    sum+=lst[i]\n",
    "print(\"Sum is\",sum)"
   ]
  },
  {
   "cell_type": "code",
   "execution_count": 8,
   "id": "d260fd54",
   "metadata": {},
   "outputs": [
    {
     "name": "stdout",
     "output_type": "stream",
     "text": [
      "largest elemnt in the array [100, 4, 10, 7, 5, 9] is 100\n"
     ]
    }
   ],
   "source": [
    "2.\n",
    "lst = [100,4,10,7,5,9]\n",
    "max(lst)\n",
    "print(\"largest elemnt in the array {} is {}\".format(lst,max(lst)))"
   ]
  },
  {
   "cell_type": "code",
   "execution_count": 10,
   "id": "056afd57",
   "metadata": {},
   "outputs": [
    {
     "name": "stdout",
     "output_type": "stream",
     "text": [
      "Array after Rotation by 4 elements is:  [9, 11, 13, 15, 1, 3, 5, 7]\n"
     ]
    }
   ],
   "source": [
    "3.\n",
    "def rotate_array1(arry, K, E):  \n",
    "    temp_1 = []  \n",
    "    J = 0  \n",
    "    while (J < E):  \n",
    "        temp_1.append(arry[J])  \n",
    "        J = J + 1  \n",
    "    J = 0  \n",
    "    while (E < K):  \n",
    "        arry[J] = arry[E]  \n",
    "        J = J + 1  \n",
    "        E = E + 1  \n",
    "    arry[:] = arry[: J] + temp_1  \n",
    "    return arry  \n",
    "   \n",
    "   \n",
    "# Driver function to test above function  \n",
    "arry = [1, 3, 5, 7, 9, 11, 13, 15]  \n",
    "print (\"Array after Rotation by 4 elements is: \", end = ' ')  \n",
    "print (rotate_array1(arry, len(arry), 4))  "
   ]
  },
  {
   "cell_type": "code",
   "execution_count": 15,
   "id": "8b9b3540",
   "metadata": {},
   "outputs": [
    {
     "name": "stdout",
     "output_type": "stream",
     "text": [
      "Enter number of elements : 4\n",
      "23\n",
      "34\n",
      "45\n",
      "56\n",
      "[23, 34, 45, 56]\n",
      "After reversing Array: [56, 45, 34, 23]\n"
     ]
    }
   ],
   "source": [
    "4.\n",
    "def reverseOfArray():\n",
    "   \n",
    "    # creating an empty list\n",
    "    lst = []\n",
    "\n",
    "    # number of elements as input\n",
    "    n = int(input(\"Enter number of elements : \"))\n",
    "\n",
    "    # iterating till the range\n",
    "    for i in range(0, n):\n",
    "        ele = int(input())\n",
    "\n",
    "        lst.append(ele) # adding the element\n",
    "\n",
    "    print(lst)\n",
    "    \n",
    "    result=list(reversed(lst)) #reversing using reverse()\n",
    "    print(\"After reversing Array:\",result)\n",
    "    \n",
    "reverseOfArray()\n"
   ]
  },
  {
   "cell_type": "code",
   "execution_count": 16,
   "id": "77f33470",
   "metadata": {},
   "outputs": [
    {
     "name": "stdout",
     "output_type": "stream",
     "text": [
      "15 16 50 36 15 40 "
     ]
    }
   ],
   "source": [
    "5.\n",
    "def SplitArray(arr, n, k):\n",
    "    for i in range(0, k):\n",
    "        x = arr[0]\n",
    "        for j in range(0, n-1):\n",
    "            arr[j] = arr[j + 1]\n",
    "        \n",
    "        arr[n-1] = x\n",
    "arr = [15, 40, 15, 16, 50, 36]\n",
    "n = len(arr)\n",
    "position = 2\n",
    "SplitArray(arr, n, position)\n",
    "for i in range(0, n):\n",
    "    print(arr[i], end = ' ')"
   ]
  },
  {
   "cell_type": "code",
   "execution_count": 17,
   "id": "36ad002d",
   "metadata": {},
   "outputs": [
    {
     "name": "stdout",
     "output_type": "stream",
     "text": [
      "True\n"
     ]
    }
   ],
   "source": [
    "6.\n",
    "# Check if given array is Monotonic\n",
    "def isMonotonic(A):\n",
    "  \n",
    "    return (all(A[i] <= A[i + 1] for i in range(len(A) - 1)) or\n",
    "            all(A[i] >= A[i + 1] for i in range(len(A) - 1)))\n",
    "  \n",
    "# Driver program\n",
    "A = [6, 5, 4, 4]\n",
    "  \n",
    "# Print required result\n",
    "print(isMonotonic(A))\n",
    "  "
   ]
  },
  {
   "cell_type": "code",
   "execution_count": null,
   "id": "cfea10a8",
   "metadata": {},
   "outputs": [],
   "source": []
  }
 ],
 "metadata": {
  "kernelspec": {
   "display_name": "Python 3",
   "language": "python",
   "name": "python3"
  },
  "language_info": {
   "codemirror_mode": {
    "name": "ipython",
    "version": 3
   },
   "file_extension": ".py",
   "mimetype": "text/x-python",
   "name": "python",
   "nbconvert_exporter": "python",
   "pygments_lexer": "ipython3",
   "version": "3.8.8"
  }
 },
 "nbformat": 4,
 "nbformat_minor": 5
}
