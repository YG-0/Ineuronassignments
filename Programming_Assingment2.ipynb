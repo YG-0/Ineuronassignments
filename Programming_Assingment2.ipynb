{
 "cells": [
  {
   "cell_type": "code",
   "execution_count": 81,
   "id": "66b91359",
   "metadata": {},
   "outputs": [
    {
     "name": "stdout",
     "output_type": "stream",
     "text": [
      "Enter the value of kilometers: 2.7\n",
      "The value of  2.7 kilometers in miles = 1.6785900000000002\n"
     ]
    }
   ],
   "source": [
    "### program to convert kilometers to miles\n",
    "k=float(input('Enter the value of kilometers: '))\n",
    "m=k*0.6217\n",
    "print('The value of ',k,'kilometers in miles =',m)"
   ]
  },
  {
   "cell_type": "code",
   "execution_count": 85,
   "id": "db6ae041",
   "metadata": {},
   "outputs": [
    {
     "name": "stdout",
     "output_type": "stream",
     "text": [
      "Enter the temperature in Celsius: 0\n",
      "The temperature in Fahrenheit is:  32.0\n"
     ]
    }
   ],
   "source": [
    "### program to convert Celsius to Fahrenheit\n",
    "c=float(input('Enter the temperature in Celsius: '))\n",
    "f=(((9/5)*c)+32)\n",
    "print('The temperature in Fahrenheit is: ',f)"
   ]
  },
  {
   "cell_type": "code",
   "execution_count": null,
   "id": "cb2b7fb0",
   "metadata": {},
   "outputs": [],
   "source": [
    "### program to "
   ]
  },
  {
   "cell_type": "code",
   "execution_count": 86,
   "id": "b08c4937",
   "metadata": {},
   "outputs": [],
   "source": [
    "### program to solve quadratic equations\n",
    "import cmath\n",
    "\"we already know the quadratic equation formula ax**2+bx+c=0 where a,b,c are real numbers and a != 0\""
   ]
  },
  {
   "cell_type": "code",
   "execution_count": 92,
   "id": "91f51a12",
   "metadata": {},
   "outputs": [
    {
     "name": "stdout",
     "output_type": "stream",
     "text": [
      "Enter the value of a = 0\n",
      "Enter the value of b = 3\n",
      "Enter the value of c = 4\n",
      "value of a can't be zero.\n"
     ]
    }
   ],
   "source": [
    "a=float(input(\"Enter the value of a = \"))\n",
    "b=float(input(\"Enter the value of b = \"))\n",
    "c=float(input(\"Enter the value of c = \"))\n",
    "if a == 0:\n",
    "    print(\"value of a can't be zero.\")\n",
    "else:\n",
    "    d=(b**2)-(4*a*c)\n",
    "    \n",
    "    sol1=(-b-cmath.sqrt(d))/(2*a)\n",
    "    sol2=(-b+cmath.sqrt(d))/(2*a)\n",
    "    print('The solution of quadratic are {0} and {1}'.format(sol1,sol2))"
   ]
  },
  {
   "cell_type": "code",
   "execution_count": 94,
   "id": "7f26d256",
   "metadata": {},
   "outputs": [
    {
     "name": "stdout",
     "output_type": "stream",
     "text": [
      "Enter the value of a = 2\n",
      "Enter the value of b = -3\n",
      "the values are  2  and  -3  after swap\n",
      "the values are  -3.0  and  2.0  after swap\n"
     ]
    }
   ],
   "source": [
    "### swap variable without using third value.\n",
    "a=int(input(\"Enter the value of a = \"))\n",
    "b=int(input(\"Enter the value of b = \"))\n",
    "print(\"the values are \",a ,\" and \",b , \" after swap\")\n",
    "a=a*b\n",
    "b=a/b\n",
    "a=a/b\n",
    "print(\"the values are \",a ,\" and \",b , \" after swap\")"
   ]
  },
  {
   "cell_type": "code",
   "execution_count": null,
   "id": "180472f9",
   "metadata": {},
   "outputs": [],
   "source": []
  }
 ],
 "metadata": {
  "kernelspec": {
   "display_name": "Python 3",
   "language": "python",
   "name": "python3"
  },
  "language_info": {
   "codemirror_mode": {
    "name": "ipython",
    "version": 3
   },
   "file_extension": ".py",
   "mimetype": "text/x-python",
   "name": "python",
   "nbconvert_exporter": "python",
   "pygments_lexer": "ipython3",
   "version": "3.8.8"
  }
 },
 "nbformat": 4,
 "nbformat_minor": 5
}
