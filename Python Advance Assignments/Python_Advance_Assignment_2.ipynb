{
 "cells": [
  {
   "cell_type": "markdown",
   "id": "f7347214",
   "metadata": {},
   "source": [
    "1.\n",
    "A Python class is like an outline/blueprint/mold for creating a new object. An object is anything that you wish to manipulate or change while working through the code. Every time a class object is instantiated, which is when we declare a variable, a new object is initiated from scratch\n",
    "\n",
    "Whereas in Python, Modules are simply files with the . py extension containing Python code that can be imported inside another Python Program. In simple terms, we can consider a module to be the same as a code library or a file that contains a set of functions/Classes that you want to include in your application.\n",
    "\n"
   ]
  },
  {
   "cell_type": "markdown",
   "id": "1e451384",
   "metadata": {},
   "source": [
    "2.\n",
    "For creating a class instance. we call a class by its name and pass the arguments which its __init__ method accepts.\n",
    "\n",
    "Example: ajay = Employee('Male',20000), Here ajay is an instance of class employee with attriubutes 'Male' and 20000.\n",
    "\n",
    "Whereas for creating a class, we use the Class keyword. Class keyword is followed by classname and semicolon.\n",
    "\n",
    "Example: Here Employee is a class created with class keyword with arguments gender and salary.\n",
    "\n",
    "class Employee:\n",
    "    def __init__(self, gender,salary):\n",
    "        self.gender = gender\n",
    "        self.salary = salary"
   ]
  },
  {
   "cell_type": "markdown",
   "id": "08651a60",
   "metadata": {},
   "source": [
    "3.\n",
    "Class attributes or Class level Attributes belong to the class itself. these attributes will be shared by all the instances of the class. Hence these attributes are usually created/defined in the top of class definition outside all methods.\n",
    "\n",
    "Example: In the below code we are defining a class attribute called no_of_wheels which will be shared by all the instances of the class Car\n",
    "\n",
    "class Car:\n",
    "    no_of_engines = 4; # this is a class attribute\n",
    "    def __init__(self,color,price,engine):\n",
    "        self.color = color # All this are instance attributes\n",
    "        self.price = price\n",
    "        self.engine = engine"
   ]
  },
  {
   "cell_type": "markdown",
   "id": "c294b430",
   "metadata": {},
   "source": [
    "4.\n",
    "Instances attributes are passed to the class when an object of the class is created. Unlike class attributes, instance attributes are not shared by all objects of the classs. instead each object maintains its own copy of instance attributes at object level. whereas incase of class attributes all instances of class refer to a single copy. Usually instance attributes are defined within the __init__ method of class\n",
    "\n",
    "Example: In the below sample code we are creating a class Car with instance varaibles color, price, engine, which will be provided when an instance of class Car is created.\n",
    "\n",
    "class Car:\n",
    "    def __init__(self,color,price,engine):\n",
    "        self.color = color # All this are instance attributes\n",
    "        self.price = price\n",
    "        self.engine = engine\n",
    "\n",
    "nexon_ev = Car('Indigo Blue', 1400000, 'electric')\n",
    "safari = Car('Pearl White',2100000, 'petrol')\n",
    "\n",
    "nexon_ev, safari are both the instances of class Car with different instance variables."
   ]
  },
  {
   "cell_type": "markdown",
   "id": "160b1722",
   "metadata": {},
   "source": [
    "5.\n",
    "self represents the instance of the class (it represents the object itself). By using the “self” keyword we can access the attributes and methods of the class with in the class in python. It binds the attributes with the given arguments."
   ]
  },
  {
   "cell_type": "code",
   "execution_count": 5,
   "id": "077c0a1a",
   "metadata": {},
   "outputs": [
    {
     "name": "stdout",
     "output_type": "stream",
     "text": [
      "1400000\n",
      "Pearl White\n"
     ]
    }
   ],
   "source": [
    "class Car:\n",
    "    def __init__(self,color,price,engine):\n",
    "        self.color = color # All this are instance attributes\n",
    "        self.price = price\n",
    "        self.engine = engine\n",
    "\n",
    "nexon_ev = Car('Indigo Blue', 1400000, 'electric')\n",
    "safari = Car('Pearl White',2100000, 'petrol')\n",
    "\n",
    "print(nexon_ev.price)\n",
    "print(safari.color)"
   ]
  },
  {
   "cell_type": "markdown",
   "id": "d6565cc3",
   "metadata": {},
   "source": [
    "6.\n",
    "Class functions that begin with double underscore __ are called special functions in Python.\n",
    "\n",
    "These functions are not the typical functions that we define for a class. The __init__() function we defined above is one of them. It gets called every time we create a new object of that class..\n",
    "\n",
    "Ex.\n",
    "+ -> __add__()\n",
    "- -> __sub__()\n",
    "* -> __mul__()\n",
    "/ -> __div__()"
   ]
  },
  {
   "cell_type": "markdown",
   "id": "d974b854",
   "metadata": {},
   "source": [
    "7.\n",
    "When we want to have different meaning for the same operator accroding to the context we use operator overloading.\n"
   ]
  },
  {
   "cell_type": "markdown",
   "id": "a69c257b",
   "metadata": {},
   "source": [
    "8.\n",
    "Superclass/Parent class is given as a arugment to the child class\n",
    "The most popular form of operator overloading in python is by special methods Which usually beign and end with double underscore __<method name>__.\n",
    "    \n"
   ]
  },
  {
   "cell_type": "code",
   "execution_count": 1,
   "id": "d8bc1e99",
   "metadata": {},
   "outputs": [
    {
     "name": "stdout",
     "output_type": "stream",
     "text": [
      "True\n",
      "False\n",
      "False\n"
     ]
    }
   ],
   "source": [
    "# overloading the less than operator\n",
    "class Point:\n",
    "    def __init__(self, x=0, y=0):\n",
    "        self.x = x\n",
    "        self.y = y\n",
    "\n",
    "    def __str__(self):\n",
    "        return \"({0},{1})\".format(self.x, self.y)\n",
    "\n",
    "    def __lt__(self, other):\n",
    "        self_mag = (self.x ** 2) + (self.y ** 2)\n",
    "        other_mag = (other.x ** 2) + (other.y ** 2)\n",
    "        return self_mag < other_mag\n",
    "\n",
    "p1 = Point(1,1)\n",
    "p2 = Point(-2,-3)\n",
    "p3 = Point(1,-1)\n",
    "\n",
    "# use less than\n",
    "print(p1<p2)\n",
    "print(p2<p3)\n",
    "print(p1<p3)"
   ]
  },
  {
   "cell_type": "markdown",
   "id": "adcb7891",
   "metadata": {},
   "source": [
    "9.\n",
    "Classes and objects are the two concepts to comprehend python OOP code as more formally objects are entities that represent instances of general abstract concept called class\n",
    "\n",
    "Along with classes and objects the important concepts to grasp are:\n",
    "\n",
    "Inheritence\n",
    "Abstraction\n",
    "Polymorphism\n",
    "Encapsulation"
   ]
  },
  {
   "cell_type": "code",
   "execution_count": null,
   "id": "49a1f519",
   "metadata": {},
   "outputs": [],
   "source": []
  }
 ],
 "metadata": {
  "kernelspec": {
   "display_name": "Python 3",
   "language": "python",
   "name": "python3"
  },
  "language_info": {
   "codemirror_mode": {
    "name": "ipython",
    "version": 3
   },
   "file_extension": ".py",
   "mimetype": "text/x-python",
   "name": "python",
   "nbconvert_exporter": "python",
   "pygments_lexer": "ipython3",
   "version": "3.8.8"
  }
 },
 "nbformat": 4,
 "nbformat_minor": 5
}
