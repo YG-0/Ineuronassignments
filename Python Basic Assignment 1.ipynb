{
 "cells": [
  {
   "cell_type": "markdown",
   "id": "0799d42d",
   "metadata": {},
   "source": [
    "* , - , / , +  are all mathematical expressions\n",
    "-87.8, 6 , 'hello', are all integer or string values"
   ]
  },
  {
   "cell_type": "markdown",
   "id": "2d575f48",
   "metadata": {},
   "source": [
    "String can store only textdata \n",
    "Variable is something that stores that can be in form of int,float,string,character,etc."
   ]
  },
  {
   "cell_type": "markdown",
   "id": "15042013",
   "metadata": {},
   "source": [
    "3 different data types\n",
    "1. integer - take the integer values of the data\n",
    "2.string- take the string(text values) of the data\n",
    "3. float - take the decimal integer values of the data"
   ]
  },
  {
   "cell_type": "markdown",
   "id": "7ded676d",
   "metadata": {},
   "source": [
    "Expressions are straight forward operations that can be performed like and,or,not etc."
   ]
  },
  {
   "cell_type": "markdown",
   "id": "dc3bbd01",
   "metadata": {},
   "source": [
    "Expressions evaluates to a value(like a*b, a and b)whereas the Statements form a part of a python program(lines of code)"
   ]
  },
  {
   "cell_type": "code",
   "execution_count": 11,
   "id": "b2a79ccb",
   "metadata": {},
   "outputs": [
    {
     "name": "stdout",
     "output_type": "stream",
     "text": [
      "22\n"
     ]
    }
   ],
   "source": [
    "bacon = 22"
   ]
  },
  {
   "cell_type": "code",
   "execution_count": 13,
   "id": "435733ba",
   "metadata": {},
   "outputs": [
    {
     "data": {
      "text/plain": [
       "23"
      ]
     },
     "execution_count": 13,
     "metadata": {},
     "output_type": "execute_result"
    }
   ],
   "source": [
    "bacon +1"
   ]
  },
  {
   "cell_type": "code",
   "execution_count": 7,
   "id": "ba69cf64",
   "metadata": {},
   "outputs": [
    {
     "data": {
      "text/plain": [
       "'spamspamspam'"
      ]
     },
     "execution_count": 7,
     "metadata": {},
     "output_type": "execute_result"
    }
   ],
   "source": [
    "'spam'+'spamspam'"
   ]
  },
  {
   "cell_type": "code",
   "execution_count": 8,
   "id": "6b590680",
   "metadata": {},
   "outputs": [
    {
     "data": {
      "text/plain": [
       "'spamspamspam'"
      ]
     },
     "execution_count": 8,
     "metadata": {},
     "output_type": "execute_result"
    }
   ],
   "source": [
    "'spam'*3"
   ]
  },
  {
   "cell_type": "markdown",
   "id": "ca2f669c",
   "metadata": {},
   "source": [
    "Python doesn't recognise integer as a variable name"
   ]
  },
  {
   "cell_type": "markdown",
   "id": "488d37e1",
   "metadata": {},
   "source": [
    "three functions can be used to get the integer, floating-point number, or string\n",
    "version of a value\n",
    "\n",
    "int()\n",
    "float()\n",
    "str()"
   ]
  },
  {
   "cell_type": "code",
   "execution_count": 25,
   "id": "db625b36",
   "metadata": {},
   "outputs": [
    {
     "ename": "TypeError",
     "evalue": "can only concatenate str (not \"int\") to str",
     "output_type": "error",
     "traceback": [
      "\u001b[1;31m---------------------------------------------------------------------------\u001b[0m",
      "\u001b[1;31mTypeError\u001b[0m                                 Traceback (most recent call last)",
      "\u001b[1;32m<ipython-input-25-67b99eaf283f>\u001b[0m in \u001b[0;36m<module>\u001b[1;34m\u001b[0m\n\u001b[1;32m----> 1\u001b[1;33m \u001b[1;34m'I have eaten '\u001b[0m\u001b[1;33m+\u001b[0m \u001b[1;36m99\u001b[0m \u001b[1;33m+\u001b[0m \u001b[1;34m' burritos.'\u001b[0m\u001b[1;33m\u001b[0m\u001b[1;33m\u001b[0m\u001b[0m\n\u001b[0m\u001b[0;32m      2\u001b[0m \u001b[1;33m\u001b[0m\u001b[0m\n\u001b[0;32m      3\u001b[0m \u001b[1;31m###the following error is a result of a heterogenous data types used this can be rectified by changing the integer data to stringby adding '' or str()###\u001b[0m\u001b[1;33m\u001b[0m\u001b[1;33m\u001b[0m\u001b[1;33m\u001b[0m\u001b[0m\n\u001b[0;32m      4\u001b[0m \u001b[1;33m\u001b[0m\u001b[0m\n",
      "\u001b[1;31mTypeError\u001b[0m: can only concatenate str (not \"int\") to str"
     ]
    }
   ],
   "source": [
    "'I have eaten '+ 99 + ' burritos.'\n",
    "\n",
    "###the following error is a result of a heterogenous data types used this can be rectified by changing the integer data to stringby adding '' or str()###\n",
    "\n"
   ]
  },
  {
   "cell_type": "code",
   "execution_count": 19,
   "id": "8fc30dbd",
   "metadata": {},
   "outputs": [
    {
     "data": {
      "text/plain": [
       "'I have eaten 99 burritos.'"
      ]
     },
     "execution_count": 19,
     "metadata": {},
     "output_type": "execute_result"
    }
   ],
   "source": [
    "'I have eaten '+ '99' + ' burritos.'"
   ]
  },
  {
   "cell_type": "code",
   "execution_count": 20,
   "id": "fb4cbf6f",
   "metadata": {},
   "outputs": [
    {
     "data": {
      "text/plain": [
       "'I have eaten 99 burritos.'"
      ]
     },
     "execution_count": 20,
     "metadata": {},
     "output_type": "execute_result"
    }
   ],
   "source": [
    "'I have eaten '+ str(99) + ' burritos.'"
   ]
  },
  {
   "cell_type": "code",
   "execution_count": null,
   "id": "2480d616",
   "metadata": {},
   "outputs": [],
   "source": []
  }
 ],
 "metadata": {
  "kernelspec": {
   "display_name": "Python 3",
   "language": "python",
   "name": "python3"
  },
  "language_info": {
   "codemirror_mode": {
    "name": "ipython",
    "version": 3
   },
   "file_extension": ".py",
   "mimetype": "text/x-python",
   "name": "python",
   "nbconvert_exporter": "python",
   "pygments_lexer": "ipython3",
   "version": "3.8.8"
  }
 },
 "nbformat": 4,
 "nbformat_minor": 5
}
