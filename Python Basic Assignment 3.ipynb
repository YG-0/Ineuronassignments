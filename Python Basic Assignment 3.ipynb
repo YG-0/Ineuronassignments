{
 "cells": [
  {
   "cell_type": "markdown",
   "id": "b3e37154",
   "metadata": {},
   "source": [
    "Advantages of having function in Program:\n",
    "Functions reduces duplicate coding. And it also helps to make the python file shorter, easier to read, and easier to update."
   ]
  },
  {
   "cell_type": "markdown",
   "id": "e5369de2",
   "metadata": {},
   "source": [
    "When does the code in function run:\n",
    "Defining a new function doesn't make the function run. for that we need to do a function call."
   ]
  },
  {
   "cell_type": "markdown",
   "id": "d835bc11",
   "metadata": {},
   "source": [
    "statement that creates a function: to create a function you need mention function with parameter in paranthesis followed by semicolon.\n",
    "ex. def function-name(parameter):"
   ]
  },
  {
   "cell_type": "markdown",
   "id": "0a7ea98f",
   "metadata": {},
   "source": [
    "difference between a function and a function call : A function is a block of code that does a particular operation and returns a result. \n",
    "example: function add(a+b)\n",
    "         return a+b\n",
    "\n",
    "A function call is the code used to pass control to a function.\n",
    "example:  b = add(5,6)"
   ]
  },
  {
   "cell_type": "markdown",
   "id": "d6e9bc1d",
   "metadata": {},
   "source": [
    "There's only one global Python scope per program execution. This scope remains in existence until the program terminates. Local scopes are actually created within a function and they cease to exist in that particular operation unless declared global."
   ]
  },
  {
   "cell_type": "markdown",
   "id": "2786160d",
   "metadata": {},
   "source": [
    "A local variable retains its value until the next time the function is called A local variable becomes undefined after the function call completes "
   ]
  },
  {
   "cell_type": "markdown",
   "id": "17c6b4cb",
   "metadata": {},
   "source": [
    "A return statement is used to end the execution of the function call and “returns” the result."
   ]
  },
  {
   "cell_type": "markdown",
   "id": "57de710c",
   "metadata": {},
   "source": [
    "In Python, every function returns something. If there are no return statements, then it returns None"
   ]
  },
  {
   "cell_type": "markdown",
   "id": "9bfccba8",
   "metadata": {},
   "source": [
    "If you want to refer to a global variable in a function, you can use the global keyword to declare which variables are global."
   ]
  },
  {
   "cell_type": "markdown",
   "id": "8cd5a305",
   "metadata": {},
   "source": [
    "None is a data type of its own (NoneType)"
   ]
  },
  {
   "cell_type": "markdown",
   "id": "33055116",
   "metadata": {},
   "source": [
    "That import statement imports a module named areallyourpetsnamederic"
   ]
  },
  {
   "cell_type": "markdown",
   "id": "c9e45401",
   "metadata": {},
   "source": [
    "This function can be called with spam.bacon()"
   ]
  },
  {
   "cell_type": "markdown",
   "id": "4693c4ba",
   "metadata": {},
   "source": [
    "If an error occurs in a program, we don’t want the program to unexpectedly crash on the user. Instead, error handling can be used to notify the user of why the error occurred and gracefully exit the process that caused the error."
   ]
  },
  {
   "cell_type": "markdown",
   "id": "20f1f0ec",
   "metadata": {},
   "source": [
    "The try block lets you test a block of code for errors. The except block lets you handle the error."
   ]
  },
  {
   "cell_type": "code",
   "execution_count": null,
   "id": "73b100b2",
   "metadata": {},
   "outputs": [],
   "source": []
  }
 ],
 "metadata": {
  "kernelspec": {
   "display_name": "Python 3",
   "language": "python",
   "name": "python3"
  },
  "language_info": {
   "codemirror_mode": {
    "name": "ipython",
    "version": 3
   },
   "file_extension": ".py",
   "mimetype": "text/x-python",
   "name": "python",
   "nbconvert_exporter": "python",
   "pygments_lexer": "ipython3",
   "version": "3.8.8"
  }
 },
 "nbformat": 4,
 "nbformat_minor": 5
}
